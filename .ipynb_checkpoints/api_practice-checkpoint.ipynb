{
 "cells": [
  {
   "cell_type": "code",
   "execution_count": 1,
   "metadata": {
    "collapsed": true
   },
   "outputs": [],
   "source": [
    "from gcoin import *\n",
    "priv = sha256('ntu2017')\n",
    "pub = privtopub(priv)\n",
    "addr = pubtoaddr(pub)"
   ]
  },
  {
   "cell_type": "code",
   "execution_count": 2,
   "metadata": {
    "collapsed": false
   },
   "outputs": [],
   "source": [
    "import requests\n",
    "from bs4 import BeautifulSoup"
   ]
  },
  {
   "cell_type": "code",
   "execution_count": 13,
   "metadata": {
    "collapsed": false
   },
   "outputs": [
    {
     "name": "stdout",
     "output_type": "stream",
     "text": [
      "{\"tx_id\": \"a468ce5c96d03133b687fbdd35850484a5817cd486b9e5edd95dcb45002097d1\"}\n"
     ]
    }
   ],
   "source": [
    "#dat = {\"address\": \"1L3JurQxbsqMq3PxyYu22kuEd1C4xkz9fV\", \"color_id\": 536663, \"name\": \"test\", \"description\": \"test\", \"member_control\": True, \"metadata_link\": \"qwer\"  }\n",
    "#resp = requests.get('http://api.2bhackathon.org:8787/base/v1/license/create', json=dat)\n",
    "resp = requests.get('http://api.2bhackathon.org:8787/base/v1/license/create?color_id=13998&name=Test_12345&description=this is a test&metadata_link=www.123.com&address=1HSD9YSCk7Xzs7m4Pai2jRaAbA3kXV8eYT')\n",
    "soup = BeautifulSoup(resp.content, 'html.parser')\n",
    "print(soup.get_text())"
   ]
  },
  {
   "cell_type": "code",
   "execution_count": 14,
   "metadata": {
    "collapsed": false
   },
   "outputs": [
    {
     "data": {
      "text/plain": [
       "{'Owner': '1HSD9YSCk7Xzs7m4Pai2jRaAbA3kXV8eYT',\n",
       " 'Total amount': 0,\n",
       " 'description': 'this is a test',\n",
       " 'divisibility': 'true',\n",
       " 'fee_collector': 'none',\n",
       " 'fee_rate': '0E-8',\n",
       " 'fee_type': 'fixed',\n",
       " 'issuer': 'none',\n",
       " 'member_control': 'false',\n",
       " 'metadata_hash': '0000000000000000000000000000000000000000000000000000000000000000',\n",
       " 'metadata_link': 'www.123.com',\n",
       " 'mint_schedule': 'free',\n",
       " 'name': 'Test_12345',\n",
       " 'upper_limit': 0,\n",
       " 'version': 1}"
      ]
     },
     "execution_count": 14,
     "metadata": {},
     "output_type": "execute_result"
    }
   ],
   "source": [
    "#import json\n",
    "#import html\n",
    "#from urllib import request\n",
    "resp = requests.get('http://api.2bhackathon.org:8787/base/v1/license/13998')\n",
    "resp.json()"
   ]
  },
  {
   "cell_type": "code",
   "execution_count": 15,
   "metadata": {
    "collapsed": false
   },
   "outputs": [
    {
     "data": {
      "text/plain": [
       "{'blockhash': '000000cf06d14c4f619c94660b456a0277bab2522586f7793d2f20f6634c92b1',\n",
       " 'blocktime': 1471747740,\n",
       " 'confirmations': 9,\n",
       " 'hex': '0100000001da216e27fb3dc967207933a7ce90be48a49c4fb5e341dddcf1b7d1da01534070000000004948304502210083c2d8ce5d08897c316c0c37fb63323c3b3f08ba30b247afa77e29631cd1c0f202200ccbdd08957fcf1b3f1732bd5a0fd3f9214512b6a02ca671f73fab543277c61601ffffffff0200e1f505000000001976a914b4468d36f8b54eaf5bc698b2ede2d5b49b5f405188acae3600000000000000000000df6a4cdc37323131303131303061353436353733373435663331333233333334333530653734363836393733323036393733323036313230373436353733373430343665366636653635303130303030303030303030303030303030303030303030303030343665366636653635303030303030303030303030303030303030303030303030303030623737373737373265333133323333326536333666366430303030303030303030303030303030303030303030303030303030303030303030303030303030303030303030303030303030303030303030303030303030ae3600000000000002000000',\n",
       " 'locktime': 0,\n",
       " 'size': 402,\n",
       " 'time': 1471747740,\n",
       " 'txid': 'a468ce5c96d03133b687fbdd35850484a5817cd486b9e5edd95dcb45002097d1',\n",
       " 'type': 'LICENSE',\n",
       " 'version': 1,\n",
       " 'vin': [{'scriptSig': {'asm': '304502210083c2d8ce5d08897c316c0c37fb63323c3b3f08ba30b247afa77e29631cd1c0f202200ccbdd08957fcf1b3f1732bd5a0fd3f9214512b6a02ca671f73fab543277c61601',\n",
       "    'hex': '48304502210083c2d8ce5d08897c316c0c37fb63323c3b3f08ba30b247afa77e29631cd1c0f202200ccbdd08957fcf1b3f1732bd5a0fd3f9214512b6a02ca671f73fab543277c61601'},\n",
       "   'sequence': 4294967295,\n",
       "   'txid': '70405301dad1b7f1dcdd41e3b54f9ca448be90cea733792067c93dfb276e21da',\n",
       "   'vout': 0}],\n",
       " 'vout': [{'color': 13998,\n",
       "   'n': 0,\n",
       "   'scriptPubKey': {'addresses': ['1HSD9YSCk7Xzs7m4Pai2jRaAbA3kXV8eYT'],\n",
       "    'asm': 'OP_DUP OP_HASH160 b4468d36f8b54eaf5bc698b2ede2d5b49b5f4051 OP_EQUALVERIFY OP_CHECKSIG',\n",
       "    'hex': '76a914b4468d36f8b54eaf5bc698b2ede2d5b49b5f405188ac',\n",
       "    'reqSigs': 1,\n",
       "    'type': 'pubkeyhash'},\n",
       "   'value': 100000000},\n",
       "  {'color': 13998,\n",
       "   'n': 1,\n",
       "   'scriptPubKey': {'asm': 'OP_RETURN 37323131303131303061353436353733373435663331333233333334333530653734363836393733323036393733323036313230373436353733373430343665366636653635303130303030303030303030303030303030303030303030303030343665366636653635303030303030303030303030303030303030303030303030303030623737373737373265333133323333326536333666366430303030303030303030303030303030303030303030303030303030303030303030303030303030303030303030303030303030303030303030303030303030',\n",
       "    'hex': '6a4cdc37323131303131303061353436353733373435663331333233333334333530653734363836393733323036393733323036313230373436353733373430343665366636653635303130303030303030303030303030303030303030303030303030343665366636653635303030303030303030303030303030303030303030303030303030623737373737373265333133323333326536333666366430303030303030303030303030303030303030303030303030303030303030303030303030303030303030303030303030303030303030303030303030303030',\n",
       "    'type': 'nulldata'},\n",
       "   'value': 0}]}"
      ]
     },
     "execution_count": 15,
     "metadata": {},
     "output_type": "execute_result"
    }
   ],
   "source": [
    "resp = requests.get('http://api.2bhackathon.org:8787/base/v1/transaction/a468ce5c96d03133b687fbdd35850484a5817cd486b9e5edd95dcb45002097d1')\n",
    "resp.json()"
   ]
  },
  {
   "cell_type": "code",
   "execution_count": 7,
   "metadata": {
    "collapsed": false
   },
   "outputs": [
    {
     "data": {
      "text/plain": [
       "{'1': '421.00000000', '13998': '3333354.00000000'}"
      ]
     },
     "execution_count": 7,
     "metadata": {},
     "output_type": "execute_result"
    }
   ],
   "source": [
    "resp = requests.get('http://api.2bhackathon.org:8787/base/v1/balance/1HSD9YSCk7Xzs7m4Pai2jRaAbA3kXV8eYT')\n",
    "resp.json()"
   ]
  },
  {
   "cell_type": "code",
   "execution_count": 99,
   "metadata": {
    "collapsed": false
   },
   "outputs": [
    {
     "data": {
      "text/plain": [
       "{'raw_tx': '01000000010000000000000000000000000000000000000000000000000000000000000000ffffffff1976a914b4468d36f8b54eaf5bc698b2ede2d5b49b5f405188acffffffff010031404d0e6500001976a914b4468d36f8b54eaf5bc698b2ede2d5b49b5f405188acae3600000000000001000000'}"
      ]
     },
     "execution_count": 99,
     "metadata": {},
     "output_type": "execute_result"
    }
   ],
   "source": [
    "resp = requests.get('http://api.2bhackathon.org:8787/base/v1/mint/create?mint_address=1HSD9YSCk7Xzs7m4Pai2jRaAbA3kXV8eYT&color_id=13998&amount=1111121')\n",
    "resp.json()"
   ]
  },
  {
   "cell_type": "code",
   "execution_count": 58,
   "metadata": {
    "collapsed": false
   },
   "outputs": [
    {
     "data": {
      "text/plain": [
       "{'status': 'success'}"
      ]
     },
     "execution_count": 58,
     "metadata": {},
     "output_type": "execute_result"
    }
   ],
   "source": [
    "resp = requests.get('http://api.2bhackathon.org:8787/base/v1/getfee/1HSD9YSCk7Xzs7m4Pai2jRaAbA3kXV8eYT?diqi=oss')\n",
    "resp.json()"
   ]
  },
  {
   "cell_type": "code",
   "execution_count": 91,
   "metadata": {
    "collapsed": false
   },
   "outputs": [
    {
     "name": "stdout",
     "output_type": "stream",
     "text": [
      "{\"tx_id\": \"3641c524ca95ef4edf682e578aacfbcbf5c501c895242d2ae34de8190962c4b0\"}\n"
     ]
    }
   ],
   "source": [
    "dat = {\"raw_tx\": \"01000000010000000000000000000000000000000000000000000000000000000000000000ffffffff8a4730440220645d86bee9fc68436430faef29ed7ba525527b55bbd93af84ee1e09807e92e85022040a794b51f1fdd91b389e36cb875425f3d0031fbd6f926b9644b1356a796342b0141049b011b7ef485705675a7f4b70d5eca0d98db57554ece71897d2b3f2cd1fd4c9149365af56c49921c31d2d2bce365f304acaea37292c07e2bde3d6d103f27e8a1ffffffff010067a5110e6500001976a914b4468d36f8b54eaf5bc698b2ede2d5b49b5f405188acae3600000000000001000000\"}\n",
    "#resp = requests.post('http://api.2bhackathon.org:8787/base/v1/mint/send?raw_tx=0100000001123ac0c4cf463a2eb98dfe9c58c09ca8f5aab4646f59dd617019f194b9f24e27000000008a473044022070688de8540b14c5db532395606c70f5ddda6966e3b37c5ee8e0d938d7c6ed290220371ac26a93c2bd0f38d6075cf4332c0280ec4cb13d843f76aaabdaf1e60624500141049b011b7ef485705675a7f4b70d5eca0d98db57554ece71897d2b3f2cd1fd4c9149365af56c49921c31d2d2bce365f304acaea37292c07e2bde3d6d103f27e8a1ffffffff0200ac4206010000001976a914b4468d36f8b54eaf5bc698b2ede2d5b49b5f405188ac010000000057d347010000001976a914b4468d36f8b54eaf5bc698b2ede2d5b49b5f405188ac010000000000000000000000')\n",
    "resp = requests.post('http://api.2bhackathon.org:8787/base/v1/mint/send', data=dat)\n",
    "#resp = requests.post('http://api.2bhackathon.org:8787/base/v1/mint/send?raw_tx=0100000001123ac0c4cf463a2eb98dfe9c58c09ca8f5aab4646f59dd617019f194b9f24e27000000001976a914b4468d36f8b54eaf5bc698b2ede2d5b49b5f405188acffffffff0200ac4206010000001976a914b4468d36f8b54eaf5bc698b2ede2d5b49b5f405188ac010000000057d347010000001976a914b4468d36f8b54eaf5bc698b2ede2d5b49b5f405188ac010000000000000000000000', data=dat)\n",
    "soup = BeautifulSoup(resp.content, 'html.parser')\n",
    "print(soup.get_text())"
   ]
  },
  {
   "cell_type": "code",
   "execution_count": 52,
   "metadata": {
    "collapsed": false
   },
   "outputs": [
    {
     "data": {
      "text/plain": [
       "{'blockhash': '000000cf06d14c4f619c94660b456a0277bab2522586f7793d2f20f6634c92b1',\n",
       " 'blocktime': 1471747740,\n",
       " 'confirmations': 26,\n",
       " 'hex': '0100000001da216e27fb3dc967207933a7ce90be48a49c4fb5e341dddcf1b7d1da01534070000000004948304502210083c2d8ce5d08897c316c0c37fb63323c3b3f08ba30b247afa77e29631cd1c0f202200ccbdd08957fcf1b3f1732bd5a0fd3f9214512b6a02ca671f73fab543277c61601ffffffff0200e1f505000000001976a914b4468d36f8b54eaf5bc698b2ede2d5b49b5f405188acae3600000000000000000000df6a4cdc37323131303131303061353436353733373435663331333233333334333530653734363836393733323036393733323036313230373436353733373430343665366636653635303130303030303030303030303030303030303030303030303030343665366636653635303030303030303030303030303030303030303030303030303030623737373737373265333133323333326536333666366430303030303030303030303030303030303030303030303030303030303030303030303030303030303030303030303030303030303030303030303030303030ae3600000000000002000000',\n",
       " 'locktime': 0,\n",
       " 'size': 402,\n",
       " 'time': 1471747740,\n",
       " 'txid': 'a468ce5c96d03133b687fbdd35850484a5817cd486b9e5edd95dcb45002097d1',\n",
       " 'type': 'LICENSE',\n",
       " 'version': 1,\n",
       " 'vin': [{'scriptSig': {'asm': '304502210083c2d8ce5d08897c316c0c37fb63323c3b3f08ba30b247afa77e29631cd1c0f202200ccbdd08957fcf1b3f1732bd5a0fd3f9214512b6a02ca671f73fab543277c61601',\n",
       "    'hex': '48304502210083c2d8ce5d08897c316c0c37fb63323c3b3f08ba30b247afa77e29631cd1c0f202200ccbdd08957fcf1b3f1732bd5a0fd3f9214512b6a02ca671f73fab543277c61601'},\n",
       "   'sequence': 4294967295,\n",
       "   'txid': '70405301dad1b7f1dcdd41e3b54f9ca448be90cea733792067c93dfb276e21da',\n",
       "   'vout': 0}],\n",
       " 'vout': [{'color': 13998,\n",
       "   'n': 0,\n",
       "   'scriptPubKey': {'addresses': ['1HSD9YSCk7Xzs7m4Pai2jRaAbA3kXV8eYT'],\n",
       "    'asm': 'OP_DUP OP_HASH160 b4468d36f8b54eaf5bc698b2ede2d5b49b5f4051 OP_EQUALVERIFY OP_CHECKSIG',\n",
       "    'hex': '76a914b4468d36f8b54eaf5bc698b2ede2d5b49b5f405188ac',\n",
       "    'reqSigs': 1,\n",
       "    'type': 'pubkeyhash'},\n",
       "   'value': 100000000},\n",
       "  {'color': 13998,\n",
       "   'n': 1,\n",
       "   'scriptPubKey': {'asm': 'OP_RETURN 37323131303131303061353436353733373435663331333233333334333530653734363836393733323036393733323036313230373436353733373430343665366636653635303130303030303030303030303030303030303030303030303030343665366636653635303030303030303030303030303030303030303030303030303030623737373737373265333133323333326536333666366430303030303030303030303030303030303030303030303030303030303030303030303030303030303030303030303030303030303030303030303030303030',\n",
       "    'hex': '6a4cdc37323131303131303061353436353733373435663331333233333334333530653734363836393733323036393733323036313230373436353733373430343665366636653635303130303030303030303030303030303030303030303030303030343665366636653635303030303030303030303030303030303030303030303030303030623737373737373265333133323333326536333666366430303030303030303030303030303030303030303030303030303030303030303030303030303030303030303030303030303030303030303030303030303030',\n",
       "    'type': 'nulldata'},\n",
       "   'value': 0}]}"
      ]
     },
     "execution_count": 52,
     "metadata": {},
     "output_type": "execute_result"
    }
   ],
   "source": [
    "resp = requests.get('http://api.2bhackathon.org:8787/base/v1/transaction/a468ce5c96d03133b687fbdd35850484a5817cd486b9e5edd95dcb45002097d1')\n",
    "resp.json()"
   ]
  },
  {
   "cell_type": "code",
   "execution_count": 81,
   "metadata": {
    "collapsed": false
   },
   "outputs": [
    {
     "data": {
      "text/plain": [
       "{'error': 'invalid raw transaction'}"
      ]
     },
     "execution_count": 81,
     "metadata": {},
     "output_type": "execute_result"
    }
   ],
   "source": [
    "resp = requests.post('http://api.2bhackathon.org:8787/base/v1/transaction/send?raw_tx=0100000001123ac0c4cf463a2eb98dfe9c58c09ca8f5aab4646f59dd617019f194b9f24e27000000008a473044022070688de8540b14c5db532395606c70f5ddda6966e3b37c5ee8e0d938d7c6ed290220371ac26a93c2bd0f38d6075cf4332c0280ec4cb13d843f76aaabdaf1e60624500141049b011b7ef485705675a7f4b70d5eca0d98db57554ece71897d2b3f2cd1fd4c9149365af56c49921c31d2d2bce365f304acaea37292c07e2bde3d6d103f27e8a1ffffffff0200ac4206010000001976a914b4468d36f8b54eaf5bc698b2ede2d5b49b5f405188ac010000000057d347010000001976a914b4468d36f8b54eaf5bc698b2ede2d5b49b5f405188ac010000000000000000000000')\n",
    "resp.json()"
   ]
  },
  {
   "cell_type": "code",
   "execution_count": 100,
   "metadata": {
    "collapsed": false
   },
   "outputs": [
    {
     "data": {
      "text/plain": [
       "'01000000010000000000000000000000000000000000000000000000000000000000000000ffffffff8a47304402203a4c7535d3bc82577cd8ac40d5f7a121bbf78280dbff79cadd189e0d2db3422f02206d74402b5b3b95306eff218378c016c98e9877dd0c7eb366726a16925be5cf910141049b011b7ef485705675a7f4b70d5eca0d98db57554ece71897d2b3f2cd1fd4c9149365af56c49921c31d2d2bce365f304acaea37292c07e2bde3d6d103f27e8a1ffffffff010031404d0e6500001976a914b4468d36f8b54eaf5bc698b2ede2d5b49b5f405188acae3600000000000001000000'"
      ]
     },
     "execution_count": 100,
     "metadata": {},
     "output_type": "execute_result"
    }
   ],
   "source": [
    "raw_tx=\"01000000010000000000000000000000000000000000000000000000000000000000000000ffffffff1976a914b4468d36f8b54eaf5bc698b2ede2d5b49b5f405188acffffffff010031404d0e6500001976a914b4468d36f8b54eaf5bc698b2ede2d5b49b5f405188acae3600000000000001000000\"\n",
    "tx = signall(raw_tx, priv)\n",
    "tx"
   ]
  },
  {
   "cell_type": "code",
   "execution_count": 96,
   "metadata": {
    "collapsed": false
   },
   "outputs": [
    {
     "name": "stdout",
     "output_type": "stream",
     "text": [
      "{\"tx_id\": \"a9e96c87b572559a77cfe4161e354a99f72915d9285b190a89e6389c81fdead3\"}\n"
     ]
    }
   ],
   "source": [
    "dat = {\"raw_tx\": \"01000000010000000000000000000000000000000000000000000000000000000000000000ffffffff8a473044022030eb7a314308bb3113ba19a81866e9e2ade983904791ffa8ec09fa8e7ae98dbb022071b73b6a29da3547ed71559ec4a5db53081e339dcd2d640b64ec12d8bd377d390141049b011b7ef485705675a7f4b70d5eca0d98db57554ece71897d2b3f2cd1fd4c9149365af56c49921c31d2d2bce365f304acaea37292c07e2bde3d6d103f27e8a1ffffffff01001236530e6500001976a914b4468d36f8b54eaf5bc698b2ede2d5b49b5f405188acae3600000000000001000000\"}\n",
    "resp = requests.post('http://api.2bhackathon.org:8787/base/v1/mint/send', data=dat)\n",
    "soup = BeautifulSoup(resp.content, 'html.parser')\n",
    "print(soup.get_text())"
   ]
  },
  {
   "cell_type": "code",
   "execution_count": 102,
   "metadata": {
    "collapsed": false
   },
   "outputs": [
    {
     "data": {
      "text/plain": [
       "{'blockhash': '0000004d5dcced4085a9026892693b8ac50f740af793b346b81ad40ea26d4090',\n",
       " 'blocktime': 1471763437,\n",
       " 'confirmations': 21,\n",
       " 'hex': '01000000010000000000000000000000000000000000000000000000000000000000000000ffffffff8a473044022030eb7a314308bb3113ba19a81866e9e2ade983904791ffa8ec09fa8e7ae98dbb022071b73b6a29da3547ed71559ec4a5db53081e339dcd2d640b64ec12d8bd377d390141049b011b7ef485705675a7f4b70d5eca0d98db57554ece71897d2b3f2cd1fd4c9149365af56c49921c31d2d2bce365f304acaea37292c07e2bde3d6d103f27e8a1ffffffff01001236530e6500001976a914b4468d36f8b54eaf5bc698b2ede2d5b49b5f405188acae3600000000000001000000',\n",
       " 'locktime': 0,\n",
       " 'size': 231,\n",
       " 'time': 1471763437,\n",
       " 'txid': 'a9e96c87b572559a77cfe4161e354a99f72915d9285b190a89e6389c81fdead3',\n",
       " 'type': 'MINT',\n",
       " 'version': 1,\n",
       " 'vin': [{'coinbase': '473044022030eb7a314308bb3113ba19a81866e9e2ade983904791ffa8ec09fa8e7ae98dbb022071b73b6a29da3547ed71559ec4a5db53081e339dcd2d640b64ec12d8bd377d390141049b011b7ef485705675a7f4b70d5eca0d98db57554ece71897d2b3f2cd1fd4c9149365af56c49921c31d2d2bce365f304acaea37292c07e2bde3d6d103f27e8a1',\n",
       "   'scriptSig': {'asm': '3044022030eb7a314308bb3113ba19a81866e9e2ade983904791ffa8ec09fa8e7ae98dbb022071b73b6a29da3547ed71559ec4a5db53081e339dcd2d640b64ec12d8bd377d3901 049b011b7ef485705675a7f4b70d5eca0d98db57554ece71897d2b3f2cd1fd4c9149365af56c49921c31d2d2bce365f304acaea37292c07e2bde3d6d103f27e8a1',\n",
       "    'hex': '473044022030eb7a314308bb3113ba19a81866e9e2ade983904791ffa8ec09fa8e7ae98dbb022071b73b6a29da3547ed71559ec4a5db53081e339dcd2d640b64ec12d8bd377d390141049b011b7ef485705675a7f4b70d5eca0d98db57554ece71897d2b3f2cd1fd4c9149365af56c49921c31d2d2bce365f304acaea37292c07e2bde3d6d103f27e8a1'},\n",
       "   'sequence': 4294967295}],\n",
       " 'vout': [{'color': 13998,\n",
       "   'n': 0,\n",
       "   'scriptPubKey': {'addresses': ['1HSD9YSCk7Xzs7m4Pai2jRaAbA3kXV8eYT'],\n",
       "    'asm': 'OP_DUP OP_HASH160 b4468d36f8b54eaf5bc698b2ede2d5b49b5f4051 OP_EQUALVERIFY OP_CHECKSIG',\n",
       "    'hex': '76a914b4468d36f8b54eaf5bc698b2ede2d5b49b5f405188ac',\n",
       "    'reqSigs': 1,\n",
       "    'type': 'pubkeyhash'},\n",
       "   'value': 111112200000000}]}"
      ]
     },
     "execution_count": 102,
     "metadata": {},
     "output_type": "execute_result"
    }
   ],
   "source": [
    "resp = requests.get('http://api.2bhackathon.org:8787/base/v1/transaction/a9e96c87b572559a77cfe4161e354a99f72915d9285b190a89e6389c81fdead3')\n",
    "#soup = BeautifulSoup(resp.content, 'html.parser')\n",
    "#print(soup.get_text())\n",
    "resp.json()"
   ]
  },
  {
   "cell_type": "code",
   "execution_count": 11,
   "metadata": {
    "collapsed": false
   },
   "outputs": [
    {
     "data": {
      "text/plain": [
       "{'raw_tx': '01000000021e66c2b8a34097fcc805ff8dc8c02d9cdcd7234737872cb0705ba3befc8d3694000000001976a914b4468d36f8b54eaf5bc698b2ede2d5b49b5f405188acffffffff25112226bea070efb67e7a7ca88c491fab46d02c4956cf0fbdfe1da9a423d2c7000000001976a914b4468d36f8b54eaf5bc698b2ede2d5b49b5f405188acffffffff0200ca9a3b000000001976a9147d13547544ecc1f28eda0c0766ef4eb214de104588acae36000000752b7d000000001976a914b4468d36f8b54eaf5bc698b2ede2d5b49b5f405188ac010000000000000000000000'}"
      ]
     },
     "execution_count": 11,
     "metadata": {},
     "output_type": "execute_result"
    }
   ],
   "source": [
    "resp = requests.get('http://api.2bhackathon.org:8787/base/v1/transaction/create?from_address=1HSD9YSCk7Xzs7m4Pai2jRaAbA3kXV8eYT&to_address=1CQLd3bhw4EzaURHbKCwM5YZbUQfA4ReY6&color_id=13998&amount=10')\n",
    "#soup = BeautifulSoup(resp.content, 'html.parser')\n",
    "#print(soup.get_text())\n",
    "resp.json()"
   ]
  },
  {
   "cell_type": "code",
   "execution_count": 12,
   "metadata": {
    "collapsed": false
   },
   "outputs": [
    {
     "data": {
      "text/plain": [
       "'01000000021e66c2b8a34097fcc805ff8dc8c02d9cdcd7234737872cb0705ba3befc8d3694000000008b483045022100aecd080ea6c485b36fa53bc743b1f59ecfd591d138c89630401a9cd2488e96b302207195b6722eac2207b6fa9efd824093607f8e78cbf0ad06e2f38c3f58b12454170141049b011b7ef485705675a7f4b70d5eca0d98db57554ece71897d2b3f2cd1fd4c9149365af56c49921c31d2d2bce365f304acaea37292c07e2bde3d6d103f27e8a1ffffffff25112226bea070efb67e7a7ca88c491fab46d02c4956cf0fbdfe1da9a423d2c7000000008b48304502210083a38f0a1dc524156c35b78a928018bf3a09361d98b46c375bde164db2568cb502203788d6a68ce7150be683900ec8e98f8f7d857b8a45040733539cbd203cbf86ce0141049b011b7ef485705675a7f4b70d5eca0d98db57554ece71897d2b3f2cd1fd4c9149365af56c49921c31d2d2bce365f304acaea37292c07e2bde3d6d103f27e8a1ffffffff0200ca9a3b000000001976a9147d13547544ecc1f28eda0c0766ef4eb214de104588acae36000000752b7d000000001976a914b4468d36f8b54eaf5bc698b2ede2d5b49b5f405188ac010000000000000000000000'"
      ]
     },
     "execution_count": 12,
     "metadata": {},
     "output_type": "execute_result"
    }
   ],
   "source": [
    "raw_tx2=\"01000000021e66c2b8a34097fcc805ff8dc8c02d9cdcd7234737872cb0705ba3befc8d3694000000001976a914b4468d36f8b54eaf5bc698b2ede2d5b49b5f405188acffffffff25112226bea070efb67e7a7ca88c491fab46d02c4956cf0fbdfe1da9a423d2c7000000001976a914b4468d36f8b54eaf5bc698b2ede2d5b49b5f405188acffffffff0200ca9a3b000000001976a9147d13547544ecc1f28eda0c0766ef4eb214de104588acae36000000752b7d000000001976a914b4468d36f8b54eaf5bc698b2ede2d5b49b5f405188ac010000000000000000000000\"\n",
    "tx = signall(raw_tx2, priv)\n",
    "tx"
   ]
  },
  {
   "cell_type": "code",
   "execution_count": 13,
   "metadata": {
    "collapsed": false
   },
   "outputs": [
    {
     "name": "stdout",
     "output_type": "stream",
     "text": [
      "{\"tx_id\": \"ec8d11979660c817ef963f693ef8de98bae31d362a77fd1a100aa99678c100bd\"}\n"
     ]
    }
   ],
   "source": [
    "dat = {\"raw_tx\": \"01000000021e66c2b8a34097fcc805ff8dc8c02d9cdcd7234737872cb0705ba3befc8d3694000000008b483045022100aecd080ea6c485b36fa53bc743b1f59ecfd591d138c89630401a9cd2488e96b302207195b6722eac2207b6fa9efd824093607f8e78cbf0ad06e2f38c3f58b12454170141049b011b7ef485705675a7f4b70d5eca0d98db57554ece71897d2b3f2cd1fd4c9149365af56c49921c31d2d2bce365f304acaea37292c07e2bde3d6d103f27e8a1ffffffff25112226bea070efb67e7a7ca88c491fab46d02c4956cf0fbdfe1da9a423d2c7000000008b48304502210083a38f0a1dc524156c35b78a928018bf3a09361d98b46c375bde164db2568cb502203788d6a68ce7150be683900ec8e98f8f7d857b8a45040733539cbd203cbf86ce0141049b011b7ef485705675a7f4b70d5eca0d98db57554ece71897d2b3f2cd1fd4c9149365af56c49921c31d2d2bce365f304acaea37292c07e2bde3d6d103f27e8a1ffffffff0200ca9a3b000000001976a9147d13547544ecc1f28eda0c0766ef4eb214de104588acae36000000752b7d000000001976a914b4468d36f8b54eaf5bc698b2ede2d5b49b5f405188ac010000000000000000000000\"}\n",
    "resp = requests.post('http://api.2bhackathon.org:8787/base/v1/transaction/send', data=dat)\n",
    "soup = BeautifulSoup(resp.content, 'html.parser')\n",
    "print(soup.get_text())"
   ]
  },
  {
   "cell_type": "code",
   "execution_count": 10,
   "metadata": {
    "collapsed": false
   },
   "outputs": [
    {
     "data": {
      "text/plain": [
       "{'blockhash': '00000051232efe11352aa8ae9003b51cbed99b07ca158ccac7d29990cacad5ce',\n",
       " 'blocktime': 1471765949,\n",
       " 'confirmations': 27,\n",
       " 'hex': '010000000118c83f1d198056a9a7e19d72e0f6354b64882e91b27e9dd99c0160c070e06f55000000008b483045022100c751569c01b83376cc26f686ff131960976838690341655ab89db21101eebdb80220646f0f146daabadefd716cbbfe05041020c14f93876c05bf26017ce868c44e7001410420f34c2786b4bae593e22596631b025f3ff46e200fc1d4b52ef49bbdc2ed00b26c584b7e32523fb01be2294a1f8a5eb0cf71a203cc034ced46ea92a8df16c6e9ffffffff0200562183000000001976a914b4468d36f8b54eaf5bc698b2ede2d5b49b5f405188ac0100000000adf4ca010000001976a9147d13547544ecc1f28eda0c0766ef4eb214de104588ac010000000000000000000000',\n",
       " 'locktime': 0,\n",
       " 'size': 270,\n",
       " 'time': 1471765949,\n",
       " 'txid': 'c7d223a4a91dfebd0fcf56492cd046ab1f498ca87c7a7eb6ef70a0be26221125',\n",
       " 'type': 'NORMAL',\n",
       " 'version': 1,\n",
       " 'vin': [{'scriptSig': {'asm': '3045022100c751569c01b83376cc26f686ff131960976838690341655ab89db21101eebdb80220646f0f146daabadefd716cbbfe05041020c14f93876c05bf26017ce868c44e7001 0420f34c2786b4bae593e22596631b025f3ff46e200fc1d4b52ef49bbdc2ed00b26c584b7e32523fb01be2294a1f8a5eb0cf71a203cc034ced46ea92a8df16c6e9',\n",
       "    'hex': '483045022100c751569c01b83376cc26f686ff131960976838690341655ab89db21101eebdb80220646f0f146daabadefd716cbbfe05041020c14f93876c05bf26017ce868c44e7001410420f34c2786b4bae593e22596631b025f3ff46e200fc1d4b52ef49bbdc2ed00b26c584b7e32523fb01be2294a1f8a5eb0cf71a203cc034ced46ea92a8df16c6e9'},\n",
       "   'sequence': 4294967295,\n",
       "   'txid': '556fe070c060019cd99d7eb2912e88644b35f6e0729de1a7a95680191d3fc818',\n",
       "   'vout': 0}],\n",
       " 'vout': [{'color': 1,\n",
       "   'n': 0,\n",
       "   'scriptPubKey': {'addresses': ['1HSD9YSCk7Xzs7m4Pai2jRaAbA3kXV8eYT'],\n",
       "    'asm': 'OP_DUP OP_HASH160 b4468d36f8b54eaf5bc698b2ede2d5b49b5f4051 OP_EQUALVERIFY OP_CHECKSIG',\n",
       "    'hex': '76a914b4468d36f8b54eaf5bc698b2ede2d5b49b5f405188ac',\n",
       "    'reqSigs': 1,\n",
       "    'type': 'pubkeyhash'},\n",
       "   'value': 2200000000},\n",
       "  {'color': 1,\n",
       "   'n': 1,\n",
       "   'scriptPubKey': {'addresses': ['1CQLd3bhw4EzaURHbKCwM5YZbUQfA4ReY6'],\n",
       "    'asm': 'OP_DUP OP_HASH160 7d13547544ecc1f28eda0c0766ef4eb214de1045 OP_EQUALVERIFY OP_CHECKSIG',\n",
       "    'hex': '76a9147d13547544ecc1f28eda0c0766ef4eb214de104588ac',\n",
       "    'reqSigs': 1,\n",
       "    'type': 'pubkeyhash'},\n",
       "   'value': 7700000000}]}"
      ]
     },
     "execution_count": 10,
     "metadata": {},
     "output_type": "execute_result"
    }
   ],
   "source": [
    "resp = requests.get('http://api.2bhackathon.org:8787/base/v1/transaction/c7d223a4a91dfebd0fcf56492cd046ab1f498ca87c7a7eb6ef70a0be26221125')\n",
    "resp.json()"
   ]
  },
  {
   "cell_type": "code",
   "execution_count": 21,
   "metadata": {
    "collapsed": false
   },
   "outputs": [],
   "source": [
    "resp = requests.get('http://api.2bhackathon.org:8787/explorer/v1/transactions/color/13998')\n",
    "#soup = BeautifulSoup(resp.content, 'html.parser')\n",
    "#print(soup.get_text())"
   ]
  },
  {
   "cell_type": "code",
   "execution_count": null,
   "metadata": {
    "collapsed": true
   },
   "outputs": [],
   "source": []
  }
 ],
 "metadata": {
  "kernelspec": {
   "display_name": "Python 3",
   "language": "python",
   "name": "python3"
  },
  "language_info": {
   "codemirror_mode": {
    "name": "ipython",
    "version": 3
   },
   "file_extension": ".py",
   "mimetype": "text/x-python",
   "name": "python",
   "nbconvert_exporter": "python",
   "pygments_lexer": "ipython3",
   "version": "3.5.2"
  }
 },
 "nbformat": 4,
 "nbformat_minor": 0
}
